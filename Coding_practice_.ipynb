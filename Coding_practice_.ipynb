{
  "nbformat": 4,
  "nbformat_minor": 0,
  "metadata": {
    "colab": {
      "provenance": [],
      "authorship_tag": "ABX9TyO1fiiTQJui1FNsXyQn68YH",
      "include_colab_link": true
    },
    "kernelspec": {
      "name": "python3",
      "display_name": "Python 3"
    },
    "language_info": {
      "name": "python"
    }
  },
  "cells": [
    {
      "cell_type": "markdown",
      "metadata": {
        "id": "view-in-github",
        "colab_type": "text"
      },
      "source": [
        "<a href=\"https://colab.research.google.com/github/parshvak26/Python-coding-practice/blob/main/Coding_practice_.ipynb\" target=\"_parent\"><img src=\"https://colab.research.google.com/assets/colab-badge.svg\" alt=\"Open In Colab\"/></a>"
      ]
    },
    {
      "cell_type": "markdown",
      "source": [
        "# **Introduction to Python**"
      ],
      "metadata": {
        "id": "N1j9VDTDWbWw"
      }
    },
    {
      "cell_type": "code",
      "source": [
        "print('Hello world !!!!')"
      ],
      "metadata": {
        "colab": {
          "base_uri": "https://localhost:8080/"
        },
        "id": "EDLsS1w54sOl",
        "outputId": "1a394aa0-51b4-4670-dd4c-1a1b5ffee6f6"
      },
      "execution_count": 21,
      "outputs": [
        {
          "output_type": "stream",
          "name": "stdout",
          "text": [
            "Hello world !!!!\n"
          ]
        }
      ]
    },
    {
      "cell_type": "code",
      "execution_count": 1,
      "metadata": {
        "id": "Dw0s_yxHTB6D",
        "colab": {
          "base_uri": "https://localhost:8080/"
        },
        "outputId": "81d9c302-c9b1-4db8-9100-e34719105721"
      },
      "outputs": [
        {
          "output_type": "stream",
          "name": "stdout",
          "text": [
            "The area of the circle is: 78.53975\n"
          ]
        }
      ],
      "source": [
        "radius = 5\n",
        "pi = 3.14159\n",
        "\n",
        "area = pi * radius**2\n",
        "\n",
        "print(\"The area of the circle is:\", area)\n"
      ]
    },
    {
      "cell_type": "code",
      "source": [
        "num = 17\n",
        "is_prime = True\n",
        "\n",
        "for i in range(2, int(num**0.5) + 1):\n",
        "    if num % i == 0:\n",
        "        is_prime = False\n",
        "        break\n",
        "\n",
        "if is_prime:\n",
        "    print(num, \"is a prime number.\")\n",
        "else:\n",
        "    print(num, \"is not a prime number.\")\n"
      ],
      "metadata": {
        "colab": {
          "base_uri": "https://localhost:8080/"
        },
        "id": "j6Lk7bV-3IoU",
        "outputId": "03fdbdc5-bbe7-4ef2-9a90-5f5c226542b8"
      },
      "execution_count": 2,
      "outputs": [
        {
          "output_type": "stream",
          "name": "stdout",
          "text": [
            "17 is a prime number.\n"
          ]
        }
      ]
    },
    {
      "cell_type": "code",
      "source": [
        "celsius = 25\n",
        "fahrenheit = (celsius * 9/5) + 32\n",
        "\n",
        "print(celsius, \"degrees Celsius is equal to\", fahrenheit, \"degrees Fahrenheit.\")\n"
      ],
      "metadata": {
        "colab": {
          "base_uri": "https://localhost:8080/"
        },
        "id": "eYiplg-f3Ikl",
        "outputId": "761495b0-3c5a-422a-8723-c73eb532b9a7"
      },
      "execution_count": 3,
      "outputs": [
        {
          "output_type": "stream",
          "name": "stdout",
          "text": [
            "25 degrees Celsius is equal to 77.0 degrees Fahrenheit.\n"
          ]
        }
      ]
    },
    {
      "cell_type": "code",
      "source": [
        "numbers = [5, 9, 2, 14, 7, 10]\n",
        "max_num = numbers[0]\n",
        "\n",
        "for num in numbers:\n",
        "    if num > max_num:\n",
        "        max_num = num\n",
        "\n",
        "print(\"The maximum number in the list is:\", max_num)\n"
      ],
      "metadata": {
        "id": "-_FuXoEU3Igh"
      },
      "execution_count": null,
      "outputs": []
    },
    {
      "cell_type": "code",
      "source": [
        "n = 10\n",
        "fib_sequence = []\n",
        "\n",
        "a, b = 0, 1\n",
        "for _ in range(n):\n",
        "    fib_sequence.append(a)\n",
        "    a, b = b, a + b\n",
        "\n",
        "print(\"The Fibonacci sequence up to\", n, \"terms is:\", fib_sequence)\n"
      ],
      "metadata": {
        "colab": {
          "base_uri": "https://localhost:8080/"
        },
        "id": "wvV7gTcm3IdB",
        "outputId": "0d1a5a0a-15ab-4bd6-d2ac-fc11b6959d84"
      },
      "execution_count": 5,
      "outputs": [
        {
          "output_type": "stream",
          "name": "stdout",
          "text": [
            "The Fibonacci sequence up to 10 terms is: [0, 1, 1, 2, 3, 5, 8, 13, 21, 34]\n"
          ]
        }
      ]
    },
    {
      "cell_type": "code",
      "source": [
        "string = \"racecar\"\n",
        "is_palindrome = True\n",
        "\n",
        "for i in range(len(string)//2):\n",
        "    if string[i] != string[-i-1]:\n",
        "        is_palindrome = False\n",
        "        break\n",
        "\n",
        "if is_palindrome:\n",
        "    print(string, \"is a palindrome.\")\n",
        "else:\n",
        "    print(string, \"is not a palindrome.\")\n"
      ],
      "metadata": {
        "colab": {
          "base_uri": "https://localhost:8080/"
        },
        "id": "gm5p4Tj83ISN",
        "outputId": "d9292510-0c26-4f6a-a825-c284bd702177"
      },
      "execution_count": 6,
      "outputs": [
        {
          "output_type": "stream",
          "name": "stdout",
          "text": [
            "racecar is a palindrome.\n"
          ]
        }
      ]
    },
    {
      "cell_type": "code",
      "source": [
        "name = \"John\"\n",
        "age = 25\n",
        "height = 1.75\n",
        "is_student = True\n",
        "\n",
        "print(name, age, height, is_student)\n"
      ],
      "metadata": {
        "colab": {
          "base_uri": "https://localhost:8080/"
        },
        "id": "pWUFnry73W0F",
        "outputId": "db776764-b2cd-461b-eb1e-93c480fdf7f9"
      },
      "execution_count": 7,
      "outputs": [
        {
          "output_type": "stream",
          "name": "stdout",
          "text": [
            "John 25 1.75 True\n"
          ]
        }
      ]
    },
    {
      "cell_type": "code",
      "source": [
        "a = 10\n",
        "b = 3\n",
        "\n",
        "addition = a + b\n",
        "subtraction = a - b\n",
        "multiplication = a * b\n",
        "division = a / b\n",
        "modulo = a % b\n",
        "floor_division = a // b\n",
        "exponentiation = a ** b\n",
        "\n",
        "print(addition, subtraction, multiplication, division, modulo, floor_division, exponentiation)\n"
      ],
      "metadata": {
        "colab": {
          "base_uri": "https://localhost:8080/"
        },
        "id": "ptXnCKO83wBe",
        "outputId": "f3f525a5-8fb2-4f46-e600-6d7d76afc09f"
      },
      "execution_count": 8,
      "outputs": [
        {
          "output_type": "stream",
          "name": "stdout",
          "text": [
            "13 7 30 3.3333333333333335 1 3 1000\n"
          ]
        }
      ]
    },
    {
      "cell_type": "code",
      "source": [
        "a = 10\n",
        "b = 5\n",
        "\n",
        "equal = a == b\n",
        "not_equal = a != b\n",
        "greater_than = a > b\n",
        "less_than = a < b\n",
        "greater_than_equal = a >= b\n",
        "less_than_equal = a <= b\n",
        "\n",
        "print(equal, not_equal, greater_than, less_than, greater_than_equal, less_than_equal)\n"
      ],
      "metadata": {
        "colab": {
          "base_uri": "https://localhost:8080/"
        },
        "id": "CNUPdI6d3yDm",
        "outputId": "70aeaaae-dce8-4e1c-bda6-d4d56343edb2"
      },
      "execution_count": 9,
      "outputs": [
        {
          "output_type": "stream",
          "name": "stdout",
          "text": [
            "False True True False True False\n"
          ]
        }
      ]
    },
    {
      "cell_type": "code",
      "source": [
        "num = 7\n",
        "\n",
        "if num % 2 == 0:\n",
        "    print(num, \"is even.\")\n",
        "elif num % 2 != 0:\n",
        "    print(num, \"is odd.\")\n",
        "else:\n",
        "    print(num, \"is neither even nor odd.\")\n"
      ],
      "metadata": {
        "colab": {
          "base_uri": "https://localhost:8080/"
        },
        "id": "BPrNL4S930gA",
        "outputId": "b4efd752-531c-41ed-a5a1-f15e0dc8fcb5"
      },
      "execution_count": 10,
      "outputs": [
        {
          "output_type": "stream",
          "name": "stdout",
          "text": [
            "7 is odd.\n"
          ]
        }
      ]
    },
    {
      "cell_type": "code",
      "source": [
        "for i in range(1, 6):\n",
        "    print(i)\n",
        "\n",
        "num = 10\n",
        "while num > 0:\n",
        "    print(num)\n",
        "    num -= 1\n"
      ],
      "metadata": {
        "colab": {
          "base_uri": "https://localhost:8080/"
        },
        "id": "b-ThTGEe32uP",
        "outputId": "dc6e0c88-211d-442e-9027-6fed942dd3c6"
      },
      "execution_count": 11,
      "outputs": [
        {
          "output_type": "stream",
          "name": "stdout",
          "text": [
            "1\n",
            "2\n",
            "3\n",
            "4\n",
            "5\n",
            "10\n",
            "9\n",
            "8\n",
            "7\n",
            "6\n",
            "5\n",
            "4\n",
            "3\n",
            "2\n",
            "1\n"
          ]
        }
      ]
    },
    {
      "cell_type": "code",
      "source": [
        "numbers = [1, 2, 3, 4, 5]\n",
        "names = [\"Alice\", \"Bob\", \"Charlie\"]\n",
        "mixed = [1, \"two\", 3.0, True]\n",
        "\n",
        "numbers.append(6)\n",
        "names.insert(0, \"Dave\")\n",
        "mixed.remove(\"two\")\n",
        "\n",
        "print(numbers, names, mixed)\n"
      ],
      "metadata": {
        "colab": {
          "base_uri": "https://localhost:8080/"
        },
        "id": "vmVxZQAm35jG",
        "outputId": "51cb58e0-8f77-42f1-988a-50604429edeb"
      },
      "execution_count": 12,
      "outputs": [
        {
          "output_type": "stream",
          "name": "stdout",
          "text": [
            "[1, 2, 3, 4, 5, 6] ['Dave', 'Alice', 'Bob', 'Charlie'] [1, 3.0, True]\n"
          ]
        }
      ]
    },
    {
      "cell_type": "code",
      "source": [
        "point = (3, 4)\n",
        "coordinates = ((1, 2), (3, 4), (5, 6))\n",
        "\n",
        "x, y = point\n",
        "print(x, y)\n",
        "\n",
        "print(coordinates[1])\n"
      ],
      "metadata": {
        "colab": {
          "base_uri": "https://localhost:8080/"
        },
        "id": "OHcThwZY38A2",
        "outputId": "bddfd6a5-9e5d-433f-f8a9-d10af04f81e8"
      },
      "execution_count": 13,
      "outputs": [
        {
          "output_type": "stream",
          "name": "stdout",
          "text": [
            "3 4\n",
            "(3, 4)\n"
          ]
        }
      ]
    },
    {
      "cell_type": "code",
      "source": [
        "student = {\n",
        "    \"name\": \"John\",\n",
        "    \"age\": 20,\n",
        "    \"grade\": \"A\"\n",
        "}\n",
        "\n",
        "print(student[\"name\"])\n",
        "print(student.get(\"age\"))\n",
        "print(student.keys())\n",
        "print(student.values())\n"
      ],
      "metadata": {
        "colab": {
          "base_uri": "https://localhost:8080/"
        },
        "id": "l2Wh20cU3_kY",
        "outputId": "1f388b1a-611b-46e2-cb17-5682e7c6475e"
      },
      "execution_count": 14,
      "outputs": [
        {
          "output_type": "stream",
          "name": "stdout",
          "text": [
            "John\n",
            "20\n",
            "dict_keys(['name', 'age', 'grade'])\n",
            "dict_values(['John', 20, 'A'])\n"
          ]
        }
      ]
    },
    {
      "cell_type": "code",
      "source": [
        "fruits = {\"apple\", \"banana\", \"orange\", \"apple\"}\n",
        "\n",
        "fruits.add(\"grape\")\n",
        "fruits.remove(\"banana\")\n",
        "\n",
        "print(fruits)\n"
      ],
      "metadata": {
        "colab": {
          "base_uri": "https://localhost:8080/"
        },
        "id": "sop3QfPN4BNQ",
        "outputId": "0f7e2de1-9724-43a7-aa1d-5a49c7c4143e"
      },
      "execution_count": 15,
      "outputs": [
        {
          "output_type": "stream",
          "name": "stdout",
          "text": [
            "{'apple', 'grape', 'orange'}\n"
          ]
        }
      ]
    },
    {
      "cell_type": "code",
      "source": [
        "def greet(name):\n",
        "    print(\"Hello, \" + name + \"!\")\n",
        "\n",
        "greet(\"Alice\")\n"
      ],
      "metadata": {
        "colab": {
          "base_uri": "https://localhost:8080/"
        },
        "id": "e6VQvmcp4C8G",
        "outputId": "7fb891bd-543b-4071-d03c-11d623e7338d"
      },
      "execution_count": 16,
      "outputs": [
        {
          "output_type": "stream",
          "name": "stdout",
          "text": [
            "Hello, Alice!\n"
          ]
        }
      ]
    },
    {
      "cell_type": "code",
      "source": [
        "import math\n",
        "\n",
        "x = 4.7\n",
        "\n",
        "print(math.floor(x))\n",
        "print(math.sqrt(x))\n"
      ],
      "metadata": {
        "colab": {
          "base_uri": "https://localhost:8080/"
        },
        "id": "EP2cSAKM4GDS",
        "outputId": "515abef6-f610-4549-f542-2316f5df9781"
      },
      "execution_count": 17,
      "outputs": [
        {
          "output_type": "stream",
          "name": "stdout",
          "text": [
            "4\n",
            "2.16794833886788\n"
          ]
        }
      ]
    },
    {
      "cell_type": "code",
      "source": [
        "num1 = 10\n",
        "num2 = 0\n",
        "\n",
        "try:\n",
        "    result = num1 / num2\n",
        "except ZeroDivisionError:\n",
        "    print(\"Error: Division by zero!\")\n",
        "else:\n",
        "    print(\"Result:\", result)\n"
      ],
      "metadata": {
        "colab": {
          "base_uri": "https://localhost:8080/"
        },
        "id": "YrEYZEfC4KsB",
        "outputId": "937d4fb1-5d96-4b50-d225-d869f830e9e5"
      },
      "execution_count": 18,
      "outputs": [
        {
          "output_type": "stream",
          "name": "stdout",
          "text": [
            "Error: Division by zero!\n"
          ]
        }
      ]
    },
    {
      "cell_type": "code",
      "source": [
        "class Car:\n",
        "    def __init__(self, brand, model):\n",
        "        self.brand = brand\n",
        "        self.model = model\n",
        "\n",
        "    def drive(self):\n",
        "        print(\"Driving\", self.brand, self.model)\n",
        "\n",
        "car1 = Car(\"Toyota\", \"Corolla\")\n",
        "car1.drive()\n"
      ],
      "metadata": {
        "colab": {
          "base_uri": "https://localhost:8080/"
        },
        "id": "FgxymfIj4NA2",
        "outputId": "52fea900-faad-44a1-9cf3-46b0b68c0dcb"
      },
      "execution_count": 19,
      "outputs": [
        {
          "output_type": "stream",
          "name": "stdout",
          "text": [
            "Driving Toyota Corolla\n"
          ]
        }
      ]
    },
    {
      "cell_type": "markdown",
      "source": [
        "# Numpy"
      ],
      "metadata": {
        "id": "P3iMYMNT4i8K"
      }
    },
    {
      "cell_type": "markdown",
      "source": [
        "Introduction to arrays in NumPy\n",
        "\n",
        "Creating NumPy arrays\n",
        "\n",
        "Array indexing and slicing\n",
        "\n",
        "Array manipulation (reshaping, resizing, stacking, splitting)\n",
        "\n",
        "Universal functions (element-wise operations)\n",
        "\n",
        "Array aggregation and statistics (min, max, mean, sum, etc.)\n",
        "\n",
        "Broadcasting in NumPy\n",
        "\n",
        "Random number generation with NumPy\n",
        "\n",
        "Linear algebra operations (dot product, matrix multiplication, eigenvalues)\n",
        "\n",
        "Boolean indexing and masking\n",
        "\n",
        "Handling missing values in arrays\n",
        "\n",
        "Loading and saving arrays from/to files"
      ],
      "metadata": {
        "id": "70XIVIBj47zN"
      }
    },
    {
      "cell_type": "markdown",
      "source": [
        "# Pandas"
      ],
      "metadata": {
        "id": "UYHk8aie4-nP"
      }
    },
    {
      "cell_type": "markdown",
      "source": [
        "Introduction to Pandas data structures (Series, DataFrame)\n",
        "\n",
        "Creating, accessing, and manipulating Series objects\n",
        "\n",
        "Creating, accessing, and manipulating DataFrame objects\n",
        "\n",
        "Indexing and selecting data from Series and DataFrame\n",
        "\n",
        "Filtering and querying data\n",
        "\n",
        "Handling missing data (NaN values)\n",
        "\n",
        "Data cleaning and preprocessing techniques\n",
        "\n",
        "Working with dates and times in Pandas\n",
        "\n",
        "Merging, joining, and concatenating DataFrames\n",
        "\n",
        "Grouping and aggregating data\n",
        "\n",
        "Applying functions to data (apply, map)\n",
        "\n",
        "Data visualization with Pandas\n",
        "\n",
        "Input and output operations (reading from and writing to different file formats)"
      ],
      "metadata": {
        "id": "MuUCc3vL5B5E"
      }
    }
  ]
}