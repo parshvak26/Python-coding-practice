{
  "nbformat": 4,
  "nbformat_minor": 0,
  "metadata": {
    "colab": {
      "provenance": [],
      "collapsed_sections": [
        "N1j9VDTDWbWw",
        "P3iMYMNT4i8K",
        "UYHk8aie4-nP"
      ],
      "authorship_tag": "ABX9TyMM4ArDveu6Zg/hLw1YSI9K",
      "include_colab_link": true
    },
    "kernelspec": {
      "name": "python3",
      "display_name": "Python 3"
    },
    "language_info": {
      "name": "python"
    }
  },
  "cells": [
    {
      "cell_type": "markdown",
      "metadata": {
        "id": "view-in-github",
        "colab_type": "text"
      },
      "source": [
        "<a href=\"https://colab.research.google.com/github/parshvak26/Python-coding-practice/blob/main/Coding_practice_.ipynb\" target=\"_parent\"><img src=\"https://colab.research.google.com/assets/colab-badge.svg\" alt=\"Open In Colab\"/></a>"
      ]
    },
    {
      "cell_type": "markdown",
      "source": [
        "# **Introduction to Python**"
      ],
      "metadata": {
        "id": "N1j9VDTDWbWw"
      }
    },
    {
      "cell_type": "code",
      "source": [
        "print('Hello world !!!!')"
      ],
      "metadata": {
        "colab": {
          "base_uri": "https://localhost:8080/"
        },
        "id": "EDLsS1w54sOl",
        "outputId": "3cb1f157-ada4-4e6f-cfad-d75333f9ebf6"
      },
      "execution_count": null,
      "outputs": [
        {
          "output_type": "stream",
          "name": "stdout",
          "text": [
            "Hello world !!!!\n"
          ]
        }
      ]
    },
    {
      "cell_type": "code",
      "execution_count": null,
      "metadata": {
        "id": "Dw0s_yxHTB6D",
        "colab": {
          "base_uri": "https://localhost:8080/"
        },
        "outputId": "f1571faf-c54c-48d2-a40a-6ad2336113ae"
      },
      "outputs": [
        {
          "output_type": "stream",
          "name": "stdout",
          "text": [
            "The area of the circle is: 78.53975\n"
          ]
        }
      ],
      "source": [
        "radius = 5\n",
        "pi = 3.14159\n",
        "\n",
        "area = pi * radius**2\n",
        "\n",
        "print(\"The area of the circle is:\", area)\n"
      ]
    },
    {
      "cell_type": "code",
      "source": [
        "num = 17\n",
        "is_prime = True\n",
        "\n",
        "for i in range(2, int(num**0.5) + 1):\n",
        "    if num % i == 0:\n",
        "        is_prime = False\n",
        "        break\n",
        "\n",
        "if is_prime:\n",
        "    print(num, \"is a prime number.\")\n",
        "else:\n",
        "    print(num, \"is not a prime number.\")\n"
      ],
      "metadata": {
        "colab": {
          "base_uri": "https://localhost:8080/"
        },
        "id": "j6Lk7bV-3IoU",
        "outputId": "1e26b8f6-1423-45c2-b0cd-1c808907af9e"
      },
      "execution_count": null,
      "outputs": [
        {
          "output_type": "stream",
          "name": "stdout",
          "text": [
            "17 is a prime number.\n"
          ]
        }
      ]
    },
    {
      "cell_type": "code",
      "source": [
        "celsius = 25\n",
        "fahrenheit = (celsius * 9/5) + 32\n",
        "\n",
        "print(celsius, \"degrees Celsius is equal to\", fahrenheit, \"degrees Fahrenheit.\")\n"
      ],
      "metadata": {
        "colab": {
          "base_uri": "https://localhost:8080/"
        },
        "id": "eYiplg-f3Ikl",
        "outputId": "b741f542-7ed2-452c-a8b1-2263d8a784ce"
      },
      "execution_count": null,
      "outputs": [
        {
          "output_type": "stream",
          "name": "stdout",
          "text": [
            "25 degrees Celsius is equal to 77.0 degrees Fahrenheit.\n"
          ]
        }
      ]
    },
    {
      "cell_type": "code",
      "source": [
        "numbers = [5, 9, 2, 14, 7, 10]\n",
        "max_num = numbers[0]\n",
        "\n",
        "for num in numbers:\n",
        "    if num > max_num:\n",
        "        max_num = num\n",
        "\n",
        "print(\"The maximum number in the list is:\", max_num)\n"
      ],
      "metadata": {
        "id": "-_FuXoEU3Igh",
        "colab": {
          "base_uri": "https://localhost:8080/"
        },
        "outputId": "07bdf7e6-02d6-4041-ce10-6383d51ff213"
      },
      "execution_count": null,
      "outputs": [
        {
          "output_type": "stream",
          "name": "stdout",
          "text": [
            "The maximum number in the list is: 14\n"
          ]
        }
      ]
    },
    {
      "cell_type": "code",
      "source": [
        "n = 10\n",
        "fib_sequence = []\n",
        "\n",
        "a, b = 0, 1\n",
        "for _ in range(n):\n",
        "    fib_sequence.append(a)\n",
        "    a, b = b, a + b\n",
        "\n",
        "print(\"The Fibonacci sequence up to\", n, \"terms is:\", fib_sequence)\n"
      ],
      "metadata": {
        "colab": {
          "base_uri": "https://localhost:8080/"
        },
        "id": "wvV7gTcm3IdB",
        "outputId": "b0e80bb9-ca9f-4905-b8f1-662006448b6e"
      },
      "execution_count": null,
      "outputs": [
        {
          "output_type": "stream",
          "name": "stdout",
          "text": [
            "The Fibonacci sequence up to 10 terms is: [0, 1, 1, 2, 3, 5, 8, 13, 21, 34]\n"
          ]
        }
      ]
    },
    {
      "cell_type": "code",
      "source": [
        "string = \"racecar\"\n",
        "is_palindrome = True\n",
        "\n",
        "for i in range(len(string)//2):\n",
        "    if string[i] != string[-i-1]:\n",
        "        is_palindrome = False\n",
        "        break\n",
        "\n",
        "if is_palindrome:\n",
        "    print(string, \"is a palindrome.\")\n",
        "else:\n",
        "    print(string, \"is not a palindrome.\")\n"
      ],
      "metadata": {
        "colab": {
          "base_uri": "https://localhost:8080/"
        },
        "id": "gm5p4Tj83ISN",
        "outputId": "27eb47d3-3a06-447d-e6c1-04deff15b0dd"
      },
      "execution_count": null,
      "outputs": [
        {
          "output_type": "stream",
          "name": "stdout",
          "text": [
            "racecar is a palindrome.\n"
          ]
        }
      ]
    },
    {
      "cell_type": "code",
      "source": [
        "name = \"John\"\n",
        "age = 25\n",
        "height = 1.75\n",
        "is_student = True\n",
        "\n",
        "print(name, age, height, is_student)\n"
      ],
      "metadata": {
        "colab": {
          "base_uri": "https://localhost:8080/"
        },
        "id": "pWUFnry73W0F",
        "outputId": "69dc0f8d-402c-4dcc-f950-54ee04a65ce0"
      },
      "execution_count": null,
      "outputs": [
        {
          "output_type": "stream",
          "name": "stdout",
          "text": [
            "John 25 1.75 True\n"
          ]
        }
      ]
    },
    {
      "cell_type": "code",
      "source": [
        "a = 10\n",
        "b = 3\n",
        "\n",
        "addition = a + b\n",
        "subtraction = a - b\n",
        "multiplication = a * b\n",
        "division = a / b\n",
        "modulo = a % b\n",
        "floor_division = a // b\n",
        "exponentiation = a ** b\n",
        "\n",
        "print(addition, subtraction, multiplication, division, modulo, floor_division, exponentiation)\n"
      ],
      "metadata": {
        "colab": {
          "base_uri": "https://localhost:8080/"
        },
        "id": "ptXnCKO83wBe",
        "outputId": "d39289c1-065d-48c1-a46c-d8ce8c2394ae"
      },
      "execution_count": null,
      "outputs": [
        {
          "output_type": "stream",
          "name": "stdout",
          "text": [
            "13 7 30 3.3333333333333335 1 3 1000\n"
          ]
        }
      ]
    },
    {
      "cell_type": "code",
      "source": [
        "a = 10\n",
        "b = 5\n",
        "\n",
        "equal = a == b\n",
        "not_equal = a != b\n",
        "greater_than = a > b\n",
        "less_than = a < b\n",
        "greater_than_equal = a >= b\n",
        "less_than_equal = a <= b\n",
        "\n",
        "print(equal, not_equal, greater_than, less_than, greater_than_equal, less_than_equal)\n"
      ],
      "metadata": {
        "colab": {
          "base_uri": "https://localhost:8080/"
        },
        "id": "CNUPdI6d3yDm",
        "outputId": "a0067089-22d3-4b8a-f32d-6cc0f0e70b15"
      },
      "execution_count": null,
      "outputs": [
        {
          "output_type": "stream",
          "name": "stdout",
          "text": [
            "False True True False True False\n"
          ]
        }
      ]
    },
    {
      "cell_type": "code",
      "source": [
        "num = 7\n",
        "\n",
        "if num % 2 == 0:\n",
        "    print(num, \"is even.\")\n",
        "elif num % 2 != 0:\n",
        "    print(num, \"is odd.\")\n",
        "else:\n",
        "    print(num, \"is neither even nor odd.\")\n"
      ],
      "metadata": {
        "colab": {
          "base_uri": "https://localhost:8080/"
        },
        "id": "BPrNL4S930gA",
        "outputId": "16b9031e-82f3-459c-a2fc-8cdd435f7010"
      },
      "execution_count": null,
      "outputs": [
        {
          "output_type": "stream",
          "name": "stdout",
          "text": [
            "7 is odd.\n"
          ]
        }
      ]
    },
    {
      "cell_type": "code",
      "source": [
        "for i in range(1, 6):\n",
        "    print(i)\n",
        "\n",
        "num = 10\n",
        "while num > 0:\n",
        "    print(num)\n",
        "    num -= 1\n"
      ],
      "metadata": {
        "colab": {
          "base_uri": "https://localhost:8080/"
        },
        "id": "b-ThTGEe32uP",
        "outputId": "32fba8e2-8694-47c9-fdb6-bcb3edb9a308"
      },
      "execution_count": null,
      "outputs": [
        {
          "output_type": "stream",
          "name": "stdout",
          "text": [
            "1\n",
            "2\n",
            "3\n",
            "4\n",
            "5\n",
            "10\n",
            "9\n",
            "8\n",
            "7\n",
            "6\n",
            "5\n",
            "4\n",
            "3\n",
            "2\n",
            "1\n"
          ]
        }
      ]
    },
    {
      "cell_type": "code",
      "source": [
        "numbers = [1, 2, 3, 4, 5]\n",
        "names = [\"Alice\", \"Bob\", \"Charlie\"]\n",
        "mixed = [1, \"two\", 3.0, True]\n",
        "\n",
        "numbers.append(6)\n",
        "names.insert(0, \"Dave\")\n",
        "mixed.remove(\"two\")\n",
        "\n",
        "print(numbers, names, mixed)\n"
      ],
      "metadata": {
        "colab": {
          "base_uri": "https://localhost:8080/"
        },
        "id": "vmVxZQAm35jG",
        "outputId": "26fd3f0a-24e2-4ca0-c24a-f1cc5eb39c01"
      },
      "execution_count": null,
      "outputs": [
        {
          "output_type": "stream",
          "name": "stdout",
          "text": [
            "[1, 2, 3, 4, 5, 6] ['Dave', 'Alice', 'Bob', 'Charlie'] [1, 3.0, True]\n"
          ]
        }
      ]
    },
    {
      "cell_type": "code",
      "source": [
        "point = (3, 4)\n",
        "coordinates = ((1, 2), (3, 4), (5, 6))\n",
        "\n",
        "x, y = point\n",
        "print(x, y)\n",
        "\n",
        "print(coordinates[1])\n"
      ],
      "metadata": {
        "colab": {
          "base_uri": "https://localhost:8080/"
        },
        "id": "OHcThwZY38A2",
        "outputId": "154078a9-7267-4480-f16d-a95f6d440766"
      },
      "execution_count": null,
      "outputs": [
        {
          "output_type": "stream",
          "name": "stdout",
          "text": [
            "3 4\n",
            "(3, 4)\n"
          ]
        }
      ]
    },
    {
      "cell_type": "code",
      "source": [
        "student = {\n",
        "    \"name\": \"John\",\n",
        "    \"age\": 20,\n",
        "    \"grade\": \"A\"\n",
        "}\n",
        "\n",
        "print(student[\"name\"])\n",
        "print(student.get(\"age\"))\n",
        "print(student.keys())\n",
        "print(student.values())\n"
      ],
      "metadata": {
        "colab": {
          "base_uri": "https://localhost:8080/"
        },
        "id": "l2Wh20cU3_kY",
        "outputId": "84b798dc-b2f9-4198-bf66-0b90b5bea289"
      },
      "execution_count": null,
      "outputs": [
        {
          "output_type": "stream",
          "name": "stdout",
          "text": [
            "John\n",
            "20\n",
            "dict_keys(['name', 'age', 'grade'])\n",
            "dict_values(['John', 20, 'A'])\n"
          ]
        }
      ]
    },
    {
      "cell_type": "code",
      "source": [
        "fruits = {\"apple\", \"banana\", \"orange\", \"apple\"}\n",
        "\n",
        "fruits.add(\"grape\")\n",
        "fruits.remove(\"banana\")\n",
        "\n",
        "print(fruits)\n"
      ],
      "metadata": {
        "colab": {
          "base_uri": "https://localhost:8080/"
        },
        "id": "sop3QfPN4BNQ",
        "outputId": "da0d4cb5-d55a-4065-d8fb-d3b262167e84"
      },
      "execution_count": null,
      "outputs": [
        {
          "output_type": "stream",
          "name": "stdout",
          "text": [
            "{'apple', 'orange', 'grape'}\n"
          ]
        }
      ]
    },
    {
      "cell_type": "code",
      "source": [
        "def greet(name):\n",
        "    print(\"Hello, \" + name + \"!\")\n",
        "\n",
        "greet(\"Alice\")\n"
      ],
      "metadata": {
        "colab": {
          "base_uri": "https://localhost:8080/"
        },
        "id": "e6VQvmcp4C8G",
        "outputId": "fdf4d152-3968-4e70-d1c9-e371afb61c76"
      },
      "execution_count": null,
      "outputs": [
        {
          "output_type": "stream",
          "name": "stdout",
          "text": [
            "Hello, Alice!\n"
          ]
        }
      ]
    },
    {
      "cell_type": "code",
      "source": [
        "import math\n",
        "\n",
        "x = 4.7\n",
        "\n",
        "print(math.floor(x))\n",
        "print(math.sqrt(x))\n"
      ],
      "metadata": {
        "colab": {
          "base_uri": "https://localhost:8080/"
        },
        "id": "EP2cSAKM4GDS",
        "outputId": "2dfccca6-df47-4787-b9b8-78233c7e6747"
      },
      "execution_count": null,
      "outputs": [
        {
          "output_type": "stream",
          "name": "stdout",
          "text": [
            "4\n",
            "2.16794833886788\n"
          ]
        }
      ]
    },
    {
      "cell_type": "code",
      "source": [
        "num1 = 10\n",
        "num2 = 0\n",
        "\n",
        "try:\n",
        "    result = num1 / num2\n",
        "except ZeroDivisionError:\n",
        "    print(\"Error: Division by zero!\")\n",
        "else:\n",
        "    print(\"Result:\", result)\n"
      ],
      "metadata": {
        "colab": {
          "base_uri": "https://localhost:8080/"
        },
        "id": "YrEYZEfC4KsB",
        "outputId": "af82ea91-d264-4b39-84c7-a4f50de5f790"
      },
      "execution_count": null,
      "outputs": [
        {
          "output_type": "stream",
          "name": "stdout",
          "text": [
            "Error: Division by zero!\n"
          ]
        }
      ]
    },
    {
      "cell_type": "code",
      "source": [
        "class Car:\n",
        "    def __init__(self, brand, model):\n",
        "        self.brand = brand\n",
        "        self.model = model\n",
        "\n",
        "    def drive(self):\n",
        "        print(\"Driving\", self.brand, self.model)\n",
        "\n",
        "car1 = Car(\"Toyota\", \"Corolla\")\n",
        "car1.drive()\n"
      ],
      "metadata": {
        "colab": {
          "base_uri": "https://localhost:8080/"
        },
        "id": "FgxymfIj4NA2",
        "outputId": "9d6d7776-dd7f-4cab-bda2-80ba0369de15"
      },
      "execution_count": null,
      "outputs": [
        {
          "output_type": "stream",
          "name": "stdout",
          "text": [
            "Driving Toyota Corolla\n"
          ]
        }
      ]
    },
    {
      "cell_type": "markdown",
      "source": [
        "# Numpy"
      ],
      "metadata": {
        "id": "P3iMYMNT4i8K"
      }
    },
    {
      "cell_type": "code",
      "source": [
        "import numpy as np\n",
        "\n",
        "arr = np.array([1, 2, 3, 4, 5])\n",
        "print(arr)"
      ],
      "metadata": {
        "colab": {
          "base_uri": "https://localhost:8080/"
        },
        "id": "WdTKooCBKAPQ",
        "outputId": "d51c1492-6473-4b3f-8f6c-a9aef5d0727b"
      },
      "execution_count": null,
      "outputs": [
        {
          "output_type": "stream",
          "name": "stdout",
          "text": [
            "[1 2 3 4 5]\n"
          ]
        }
      ]
    },
    {
      "cell_type": "code",
      "source": [
        "zeros_arr = np.zeros((3, 4))\n",
        "\n",
        "ones_arr = np.ones((2, 3, 4))\n",
        "\n",
        "random_arr = np.random.rand(2, 2)\n",
        "\n",
        "print(zeros_arr)\n",
        "print(ones_arr)\n",
        "print(random_arr)"
      ],
      "metadata": {
        "colab": {
          "base_uri": "https://localhost:8080/"
        },
        "id": "IGYPCaGDKAMf",
        "outputId": "cf702ed6-86cf-43a5-d3db-df8a1e25da94"
      },
      "execution_count": null,
      "outputs": [
        {
          "output_type": "stream",
          "name": "stdout",
          "text": [
            "[[0. 0. 0. 0.]\n",
            " [0. 0. 0. 0.]\n",
            " [0. 0. 0. 0.]]\n",
            "[[[1. 1. 1. 1.]\n",
            "  [1. 1. 1. 1.]\n",
            "  [1. 1. 1. 1.]]\n",
            "\n",
            " [[1. 1. 1. 1.]\n",
            "  [1. 1. 1. 1.]\n",
            "  [1. 1. 1. 1.]]]\n",
            "[[0.999597   0.11227794]\n",
            " [0.66964069 0.21883507]]\n"
          ]
        }
      ]
    },
    {
      "cell_type": "code",
      "source": [
        "arr = np.array([[1, 2, 3], [4, 5, 6]])\n",
        "\n",
        "reshaped_arr = arr.reshape(2, 3)\n",
        "resized_arr = np.resize(arr, (3, 4))\n",
        "hstack_arr = np.hstack((arr, reshaped_arr))\n",
        "vstack_arr = np.vstack((arr, reshaped_arr))\n",
        "split_arr = np.split(arr, 2)\n",
        "\n",
        "print(reshaped_arr)\n",
        "print()\n",
        "print(resized_arr)\n",
        "print()\n",
        "print(hstack_arr)\n",
        "print()\n",
        "print(vstack_arr)\n",
        "print()\n",
        "print(split_arr)"
      ],
      "metadata": {
        "colab": {
          "base_uri": "https://localhost:8080/"
        },
        "id": "vXuhMA4lKAKM",
        "outputId": "2604679c-f41d-4c77-b671-1ff50d944895"
      },
      "execution_count": null,
      "outputs": [
        {
          "output_type": "stream",
          "name": "stdout",
          "text": [
            "[[1 2 3]\n",
            " [4 5 6]]\n",
            "\n",
            "[[1 2 3 4]\n",
            " [5 6 1 2]\n",
            " [3 4 5 6]]\n",
            "\n",
            "[[1 2 3 1 2 3]\n",
            " [4 5 6 4 5 6]]\n",
            "\n",
            "[[1 2 3]\n",
            " [4 5 6]\n",
            " [1 2 3]\n",
            " [4 5 6]]\n",
            "\n",
            "[array([[1, 2, 3]]), array([[4, 5, 6]])]\n"
          ]
        }
      ]
    },
    {
      "cell_type": "code",
      "source": [
        "added_arr = arr + 2\n",
        "sqrt_arr = np.sqrt(arr)\n",
        "exp_arr = np.exp(arr)\n",
        "\n",
        "print(added_arr)\n",
        "print()\n",
        "print(sqrt_arr)\n",
        "print()\n",
        "print(exp_arr)"
      ],
      "metadata": {
        "colab": {
          "base_uri": "https://localhost:8080/"
        },
        "id": "tsbtQgXtKAG2",
        "outputId": "676fb803-2615-45f2-d2a9-fdf21232e472"
      },
      "execution_count": null,
      "outputs": [
        {
          "output_type": "stream",
          "name": "stdout",
          "text": [
            "[[3 4 5]\n",
            " [6 7 8]]\n",
            "\n",
            "[[1.         1.41421356 1.73205081]\n",
            " [2.         2.23606798 2.44948974]]\n",
            "\n",
            "[[  2.71828183   7.3890561   20.08553692]\n",
            " [ 54.59815003 148.4131591  403.42879349]]\n"
          ]
        }
      ]
    },
    {
      "cell_type": "code",
      "source": [
        "min_val = np.min(arr)\n",
        "max_val = np.max(arr)\n",
        "mean_val = np.mean(arr)\n",
        "sum_val = np.sum(arr)\n",
        "\n",
        "print(min_val)\n",
        "print(max_val)\n",
        "print(mean_val)\n",
        "print(sum_val)\n"
      ],
      "metadata": {
        "colab": {
          "base_uri": "https://localhost:8080/"
        },
        "id": "w5TNHZArKADe",
        "outputId": "deb66aaa-f713-4fc0-e3e3-8fe12913ff5c"
      },
      "execution_count": null,
      "outputs": [
        {
          "output_type": "stream",
          "name": "stdout",
          "text": [
            "1\n",
            "6\n",
            "3.5\n",
            "21\n"
          ]
        }
      ]
    },
    {
      "cell_type": "code",
      "source": [
        "arr = np.array([1, 2, 3])\n",
        "\n",
        "broadcasted_arr = arr + 2\n",
        "\n",
        "arr1 = np.array([[1, 2, 3]])\n",
        "arr2 = np.array([1, 2, 3])\n",
        "broadcasted_arr2 = arr1 + arr2\n",
        "\n",
        "print(broadcasted_arr)\n",
        "print(broadcasted_arr2)\n"
      ],
      "metadata": {
        "colab": {
          "base_uri": "https://localhost:8080/"
        },
        "id": "M3P7js_AKAAq",
        "outputId": "47c7b9b8-0575-46df-ef6c-591727489df2"
      },
      "execution_count": null,
      "outputs": [
        {
          "output_type": "stream",
          "name": "stdout",
          "text": [
            "[3 4 5]\n",
            "[[2 4 6]]\n"
          ]
        }
      ]
    },
    {
      "cell_type": "markdown",
      "source": [
        "# Pandas"
      ],
      "metadata": {
        "id": "UYHk8aie4-nP"
      }
    },
    {
      "cell_type": "code",
      "source": [
        "import pandas as pd\n",
        "\n",
        "data = [10, 20, 30, 40, 50]\n",
        "s = pd.Series(data, name='MySeries')\n",
        "print(s)"
      ],
      "metadata": {
        "colab": {
          "base_uri": "https://localhost:8080/"
        },
        "id": "LUtQ-FyUMQ5n",
        "outputId": "435182ed-fab1-483b-e85d-1eb63a43ee21"
      },
      "execution_count": null,
      "outputs": [
        {
          "output_type": "stream",
          "name": "stdout",
          "text": [
            "0    10\n",
            "1    20\n",
            "2    30\n",
            "3    40\n",
            "4    50\n",
            "Name: MySeries, dtype: int64\n"
          ]
        }
      ]
    },
    {
      "cell_type": "code",
      "source": [
        "data = {'Name': ['Alice', 'Bob', 'Charlie'],\n",
        "        'Age': [25, 30, 35],\n",
        "        'City': ['New York', 'London', 'Tokyo']}\n",
        "df = pd.DataFrame(data)\n",
        "print(df)\n"
      ],
      "metadata": {
        "colab": {
          "base_uri": "https://localhost:8080/"
        },
        "id": "pmfR98aGMQ2b",
        "outputId": "65de30af-09a3-485b-85bb-8478a6aad5e9"
      },
      "execution_count": null,
      "outputs": [
        {
          "output_type": "stream",
          "name": "stdout",
          "text": [
            "      Name  Age      City\n",
            "0    Alice   25  New York\n",
            "1      Bob   30    London\n",
            "2  Charlie   35     Tokyo\n"
          ]
        }
      ]
    },
    {
      "cell_type": "code",
      "source": [
        "data = [10, 20, 30, 40, 50]\n",
        "s = pd.Series(data, name='MySeries')\n",
        "print(s[2])\n",
        "print(s)"
      ],
      "metadata": {
        "colab": {
          "base_uri": "https://localhost:8080/"
        },
        "id": "b_89laaAMQzs",
        "outputId": "dd92aec5-8f53-49a5-a3a5-af1bfe7f80a5"
      },
      "execution_count": null,
      "outputs": [
        {
          "output_type": "stream",
          "name": "stdout",
          "text": [
            "30\n",
            "0    10\n",
            "1    20\n",
            "2    30\n",
            "3    40\n",
            "4    50\n",
            "Name: MySeries, dtype: int64\n"
          ]
        }
      ]
    },
    {
      "cell_type": "code",
      "source": [
        "data = {'Name': ['Alice', 'Bob', 'Charlie'],\n",
        "        'Age': [25, 30, 35],\n",
        "        'City': ['New York', 'London', 'Tokyo']}\n",
        "df = pd.DataFrame(data)\n",
        "print(df['Name'])\n"
      ],
      "metadata": {
        "colab": {
          "base_uri": "https://localhost:8080/"
        },
        "id": "iPsk2ZERMQuj",
        "outputId": "c7b0e60d-70f3-465c-8549-e0eb06a770d9"
      },
      "execution_count": null,
      "outputs": [
        {
          "output_type": "stream",
          "name": "stdout",
          "text": [
            "0      Alice\n",
            "1        Bob\n",
            "2    Charlie\n",
            "Name: Name, dtype: object\n"
          ]
        }
      ]
    },
    {
      "cell_type": "code",
      "source": [
        "filtered_df = df[df['Age'] > 25]\n",
        "print(filtered_df)\n",
        "print()\n",
        "query_df = df.query(\"Age > 25 and City == 'London'\")\n",
        "print(query_df)\n"
      ],
      "metadata": {
        "colab": {
          "base_uri": "https://localhost:8080/"
        },
        "id": "LKzgOZniMQro",
        "outputId": "8cae0215-a949-4e07-eb64-01f91e5827f5"
      },
      "execution_count": null,
      "outputs": [
        {
          "output_type": "stream",
          "name": "stdout",
          "text": [
            "      Name  Age    City\n",
            "1      Bob   30  London\n",
            "2  Charlie   35   Tokyo\n",
            "\n",
            "  Name  Age    City\n",
            "1  Bob   30  London\n"
          ]
        }
      ]
    },
    {
      "cell_type": "code",
      "source": [
        "data = {'Name': ['Alice', 'Bob', np.nan],\n",
        "        'Age': [25, np.nan, 35],\n",
        "        'City': ['New York', 'London', 'Tokyo']}\n",
        "df = pd.DataFrame(data)\n",
        "\n",
        "print(df.isnull())\n",
        "print()\n",
        "\n",
        "df_dropped = df.dropna()\n",
        "print(df_dropped)\n",
        "print()\n",
        "\n",
        "df_filled = df.fillna('Unknown')\n",
        "print(df_filled)\n"
      ],
      "metadata": {
        "colab": {
          "base_uri": "https://localhost:8080/"
        },
        "id": "7x4ajV6YMQow",
        "outputId": "fcf54fea-8fa6-4198-b3c9-3e19ebea2d5b"
      },
      "execution_count": null,
      "outputs": [
        {
          "output_type": "stream",
          "name": "stdout",
          "text": [
            "    Name    Age   City\n",
            "0  False  False  False\n",
            "1  False   True  False\n",
            "2   True  False  False\n",
            "\n",
            "    Name   Age      City\n",
            "0  Alice  25.0  New York\n",
            "\n",
            "      Name      Age      City\n",
            "0    Alice     25.0  New York\n",
            "1      Bob  Unknown    London\n",
            "2  Unknown     35.0     Tokyo\n"
          ]
        }
      ]
    },
    {
      "cell_type": "code",
      "source": [
        "data = {'Name': ['Alice', 'Bob', 'Charlie  ', 'Dave  '],\n",
        "        'Age': [25, 30, 35, 40],\n",
        "        'City': ['New York', 'London', 'Tokyo', 'Paris']}\n",
        "df = pd.DataFrame(data)\n",
        "\n",
        "df['Name'] = df['Name'].str.strip()\n",
        "\n",
        "df['City'] = df['City'].str.lower()\n",
        "\n",
        "df = df.drop_duplicates()\n",
        "\n",
        "print(df)\n"
      ],
      "metadata": {
        "colab": {
          "base_uri": "https://localhost:8080/"
        },
        "id": "IpYKou7HMQlk",
        "outputId": "432f11a7-7eef-4dc5-bdd2-880fd6290016"
      },
      "execution_count": null,
      "outputs": [
        {
          "output_type": "stream",
          "name": "stdout",
          "text": [
            "      Name  Age      City\n",
            "0    Alice   25  new york\n",
            "1      Bob   30    london\n",
            "2  Charlie   35     tokyo\n",
            "3     Dave   40     paris\n"
          ]
        }
      ]
    },
    {
      "cell_type": "code",
      "source": [
        "data = {'Date': ['2022-01-01', '2022-02-01', '2022-03-01'],\n",
        "        'Sales': [100, 150, 200]}\n",
        "df = pd.DataFrame(data)\n",
        "\n",
        "df['Date'] = pd.to_datetime(df['Date'])\n",
        "\n",
        "df['Year'] = df['Date'].dt.year\n",
        "df['Month'] = df['Date'].dt.month\n",
        "df['Day'] = df['Date'].dt.day\n",
        "\n",
        "print(df)\n"
      ],
      "metadata": {
        "colab": {
          "base_uri": "https://localhost:8080/"
        },
        "id": "7wWNv9X3MQil",
        "outputId": "22cb7981-9cd9-40cf-d5a2-f951c4e80e76"
      },
      "execution_count": null,
      "outputs": [
        {
          "output_type": "stream",
          "name": "stdout",
          "text": [
            "        Date  Sales  Year  Month  Day\n",
            "0 2022-01-01    100  2022      1    1\n",
            "1 2022-02-01    150  2022      2    1\n",
            "2 2022-03-01    200  2022      3    1\n"
          ]
        }
      ]
    },
    {
      "cell_type": "code",
      "source": [
        "data1 = {'Name': ['Alice', 'Bob'],\n",
        "         'Age': [25, 30]}\n",
        "\n",
        "df1 = pd.DataFrame(data1)\n",
        "\n",
        "data2 = {'Name': ['Charlie', 'Dave'],\n",
        "         'Age': [35, 40]}\n",
        "\n",
        "df2 = pd.DataFrame(data2)\n",
        "\n",
        "merged_df = pd.merge(df1, df2, on='Name')\n",
        "print(merged_df)\n",
        "print()\n",
        "\n",
        "df1.set_index('Name', inplace=True)\n",
        "df2.set_index('Name', inplace=True)\n",
        "joined_df = df1.join(df2, lsuffix='_left', rsuffix='_right')\n",
        "print(joined_df)\n",
        "print()\n",
        "\n",
        "concatenated_df = pd.concat([df1, df2])\n",
        "print(concatenated_df)\n"
      ],
      "metadata": {
        "colab": {
          "base_uri": "https://localhost:8080/"
        },
        "id": "pAnXoLojMQfl",
        "outputId": "cba45f01-a0bc-47d9-f63d-680daee92178"
      },
      "execution_count": null,
      "outputs": [
        {
          "output_type": "stream",
          "name": "stdout",
          "text": [
            "Empty DataFrame\n",
            "Columns: [Name, Age_x, Age_y]\n",
            "Index: []\n",
            "\n",
            "       Age_left  Age_right\n",
            "Name                      \n",
            "Alice        25        NaN\n",
            "Bob          30        NaN\n",
            "\n",
            "         Age\n",
            "Name        \n",
            "Alice     25\n",
            "Bob       30\n",
            "Charlie   35\n",
            "Dave      40\n"
          ]
        }
      ]
    },
    {
      "cell_type": "code",
      "source": [
        "data = {'Name': ['Alice', 'Bob', 'Charlie', 'Alice', 'Bob'],\n",
        "        'Age': [25, 30, 35, 28, 32],\n",
        "        'City': ['New York', 'London', 'Tokyo', 'New York', 'London'],\n",
        "        'Salary': [50000, 60000, 70000, 55000, 65000]}\n",
        "df = pd.DataFrame(data)\n",
        "\n",
        "grouped_df = df.groupby('Name').agg({'Age': 'mean', 'Salary': 'sum'})\n",
        "print(grouped_df)\n"
      ],
      "metadata": {
        "colab": {
          "base_uri": "https://localhost:8080/"
        },
        "id": "Ve7h0vjgMQcg",
        "outputId": "b620e65d-471b-4d2c-e321-131ee3b4b313"
      },
      "execution_count": null,
      "outputs": [
        {
          "output_type": "stream",
          "name": "stdout",
          "text": [
            "          Age  Salary\n",
            "Name                 \n",
            "Alice    26.5  105000\n",
            "Bob      31.0  125000\n",
            "Charlie  35.0   70000\n"
          ]
        }
      ]
    },
    {
      "cell_type": "code",
      "source": [
        "data = {'Name': ['Alice', 'Bob', 'Charlie'],\n",
        "        'Age': [25, 30, 35]}\n",
        "df = pd.DataFrame(data)\n",
        "\n",
        "df['Age_squared'] = df['Age'].apply(lambda x: x**2)\n",
        "print(df)\n",
        "print()\n",
        "df['Name_length'] = df['Name'].map(lambda x: len(x))\n",
        "print(df)\n"
      ],
      "metadata": {
        "colab": {
          "base_uri": "https://localhost:8080/"
        },
        "id": "nBvtiim2MQTb",
        "outputId": "0c0646f3-b8f8-4a15-aace-4951b1e2d0c2"
      },
      "execution_count": null,
      "outputs": [
        {
          "output_type": "stream",
          "name": "stdout",
          "text": [
            "      Name  Age  Age_squared\n",
            "0    Alice   25          625\n",
            "1      Bob   30          900\n",
            "2  Charlie   35         1225\n",
            "\n",
            "      Name  Age  Age_squared  Name_length\n",
            "0    Alice   25          625            5\n",
            "1      Bob   30          900            3\n",
            "2  Charlie   35         1225            7\n"
          ]
        }
      ]
    },
    {
      "cell_type": "code",
      "source": [
        "import matplotlib.pyplot as plt\n",
        "\n",
        "data = {'Name': ['Alice', 'Bob', 'Charlie'],\n",
        "        'Age': [25, 30, 35]}\n",
        "df = pd.DataFrame(data)\n",
        "\n",
        "df.plot(x='Name', y='Age', kind='bar')\n",
        "plt.xlabel('Name')\n",
        "plt.ylabel('Age')\n",
        "plt.title('Age Distribution')\n",
        "plt.show()"
      ],
      "metadata": {
        "colab": {
          "base_uri": "https://localhost:8080/",
          "height": 507
        },
        "id": "7Ui5ryurXLTP",
        "outputId": "41f89daf-f194-4374-ad11-c0e5b6309617"
      },
      "execution_count": null,
      "outputs": [
        {
          "output_type": "display_data",
          "data": {
            "text/plain": [
              "<Figure size 640x480 with 1 Axes>"
            ],
            "image/png": "[encoded data removed]"
          },
          "metadata": {}
        }
      ]
    },
    {
      "cell_type": "markdown",
      "source": [
        "#Common python questions"
      ],
      "metadata": {
        "id": "naxJW-Y6uFUQ"
      }
    },
    {
      "cell_type": "markdown",
      "source": [
        "You are given two strings word1 and word2. Merge the strings by adding letters in alternating order, starting with word1. If a string is longer than the other, append the additional letters onto the end of the merged string.\n",
        "\n",
        "Return the merged string.\n",
        "\n",
        "Example 1:\n",
        "\n",
        "Input: word1 = \"abc\", word2 = \"pqr\"\n",
        "\n",
        "Output: \"apbqcr\""
      ],
      "metadata": {
        "id": "UldzFmw0aTLA"
      }
    },
    {
      "cell_type": "code",
      "source": [
        "word1 = str(input())\n",
        "word2 = str(input())\n",
        "\n",
        "def merge_(w1, w2):\n",
        "  p1 = 0\n",
        "  p2 = 0\n",
        "  word = ''\n",
        "  while p1< len(w1) or p2<len(w2):\n",
        "    if p1 < len(w1):\n",
        "      word += w1[p1]\n",
        "\n",
        "    if p2 < len(w2):\n",
        "      word += w2[p2]\n",
        "    p1 += 1\n",
        "    p2 += 1\n",
        "\n",
        "  return word\n",
        "\n",
        "print(merge_(word1, word2))"
      ],
      "metadata": {
        "id": "GcLv6SZhuQEa",
        "colab": {
          "base_uri": "https://localhost:8080/"
        },
        "outputId": "419a69e2-8fae-4dae-eca4-7192a19e265a"
      },
      "execution_count": 2,
      "outputs": [
        {
          "output_type": "stream",
          "name": "stdout",
          "text": [
            "parshav\n",
            "karani\n",
            "pkaarrsahnaiv\n"
          ]
        }
      ]
    },
    {
      "cell_type": "markdown",
      "source": [
        "You are given two strings s and t.\n",
        "\n",
        "String t is generated by random shuffling string s and then add one more letter at a random position.\n",
        "\n",
        "Return the letter that was added to t.\n",
        "\n",
        "Example 1:\n",
        "\n",
        "Input: s = \"abcd\", t = \"abcde\"\n",
        "\n",
        "Output: \"e\"\n",
        "\n",
        "Explanation: 'e' is the letter that was added.\n",
        "\n",
        "Example 2:\n",
        "\n",
        "Input: s = \"\", t = \"y\"\n",
        "\n",
        "Output: \"y\""
      ],
      "metadata": {
        "id": "TK1b3gqOdRz_"
      }
    },
    {
      "cell_type": "code",
      "source": [
        "def findTheDifference(s: str, t: str) -> str:\n",
        "      s = [x for x in s]\n",
        "      t = [x for x in t]\n",
        "\n",
        "      for letter in s:\n",
        "        if letter in t:\n",
        "          t.remove(letter)\n",
        "\n",
        "      return ''.join(t)\n",
        "\n",
        "s = str(input())\n",
        "t = str(input())\n",
        "\n",
        "print(findTheDifference(s, t))"
      ],
      "metadata": {
        "colab": {
          "base_uri": "https://localhost:8080/"
        },
        "id": "2lHrJs0-dRH1",
        "outputId": "27cdb8e1-00da-4448-a7b1-15100387b0b3"
      },
      "execution_count": 7,
      "outputs": [
        {
          "output_type": "stream",
          "name": "stdout",
          "text": [
            "12345\n",
            "123645\n",
            "6\n"
          ]
        }
      ]
    },
    {
      "cell_type": "markdown",
      "source": [
        "Given two strings needle and haystack, return the index of the first occurrence of needle in haystack, or -1 if needle is not part of haystack.\n",
        "\n",
        "Example 1:\n",
        "\n",
        "Input: haystack = \"sadbutsad\", needle = \"sad\"\n",
        "\n",
        "Output: 0\n",
        "\n",
        "Explanation: \"sad\" occurs at index 0 and 6.\n",
        "\n",
        "The first occurrence is at index 0, so we return 0.\n",
        "\n",
        "Example 2:\n",
        "\n",
        "Input: haystack = \"leetcode\", needle = \"leeto\"\n",
        "\n",
        "Output: -1\n",
        "\n",
        "Explanation: \"leeto\" did not occur in \"leetcode\", so we return -1."
      ],
      "metadata": {
        "id": "_UpWxhcqhxxn"
      }
    },
    {
      "cell_type": "code",
      "source": [
        "def strStr(haystack: str, needle: str) -> int:\n",
        "\n",
        "  return haystack.lower().find(needle.lower())\n",
        "\n",
        "haystack = str(input())\n",
        "needle = str(input())\n",
        "\n",
        "print(strStr(haystack,needle))"
      ],
      "metadata": {
        "colab": {
          "base_uri": "https://localhost:8080/"
        },
        "id": "XxxRnMg1h5Jo",
        "outputId": "c6ca2665-3b1b-49ac-bf83-9ef1f701a6fa"
      },
      "execution_count": 15,
      "outputs": [
        {
          "output_type": "stream",
          "name": "stdout",
          "text": [
            "KAr\n",
            "kAR\n",
            "0\n"
          ]
        }
      ]
    },
    {
      "cell_type": "code",
      "source": [],
      "metadata": {
        "id": "acnRw8SZiFst"
      },
      "execution_count": null,
      "outputs": []
    }
  ]
}