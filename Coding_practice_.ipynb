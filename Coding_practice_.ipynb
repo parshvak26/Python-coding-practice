{
  "nbformat": 4,
  "nbformat_minor": 0,
  "metadata": {
    "colab": {
      "provenance": [],
      "authorship_tag": "ABX9TyNsKtpEhX5NJzoMhO3Zap1R",
      "include_colab_link": true
    },
    "kernelspec": {
      "name": "python3",
      "display_name": "Python 3"
    },
    "language_info": {
      "name": "python"
    }
  },
  "cells": [
    {
      "cell_type": "markdown",
      "metadata": {
        "id": "view-in-github",
        "colab_type": "text"
      },
      "source": [
        "<a href=\"https://colab.research.google.com/github/parshvak26/Python-coding-practice/blob/main/Coding_practice_.ipynb\" target=\"_parent\"><img src=\"https://colab.research.google.com/assets/colab-badge.svg\" alt=\"Open In Colab\"/></a>"
      ]
    },
    {
      "cell_type": "markdown",
      "source": [
        "# **Introduction to Python**"
      ],
      "metadata": {
        "id": "N1j9VDTDWbWw"
      }
    },
    {
      "cell_type": "markdown",
      "source": [
        "Basic syntax and data types (integers, floats, strings, booleans)\n",
        "\n",
        "Variables and variable assignment\n",
        "\n",
        "Arithmetic operators (+, -, *, /, %, //, **)\n",
        "\n",
        "Comparison operators (==, !=, >, <, >=, <=)\n",
        "\n",
        "Conditional statements (if, elif, else)\n",
        "\n",
        "Loops (for, while)\n",
        "\n",
        "Lists and list manipulation\n",
        "\n",
        "Tuples\n",
        "\n",
        "Dictionaries\n",
        "\n",
        "Sets\n",
        "\n",
        "Functions and function parameters\n",
        "\n",
        "Built-in functions and modules\n",
        "\n",
        "File handling (reading from and writing to files)\n",
        "\n",
        "Exception handling (try, except)\n",
        "\n",
        "Object-oriented programming concepts (classes, objects, inheritance)"
      ],
      "metadata": {
        "id": "VnFEoxW6VTmu"
      }
    },
    {
      "cell_type": "code",
      "execution_count": null,
      "metadata": {
        "id": "Dw0s_yxHTB6D"
      },
      "outputs": [],
      "source": []
    }
  ]
}